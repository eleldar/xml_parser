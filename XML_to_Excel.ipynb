{
 "cells": [
  {
   "cell_type": "code",
   "execution_count": 2,
   "metadata": {
    "scrolled": true
   },
   "outputs": [
    {
     "name": "stdout",
     "output_type": "stream",
     "text": [
      "Problem: Зарегистрировано преступлений по ч. 4, ст. 111 УК РФ - умышленное причинение тяжкого вреда здоровью, повлекшее по неосторожности смерть потерпевшего\n"
     ]
    }
   ],
   "source": [
    "import xml.etree.ElementTree as ET\n",
    "import pandas as pd\n",
    "from random import randint\n",
    "\n",
    "class Crime:\n",
    "    '''Формирование таблиц из XML-файла'''\n",
    "    def __init__(self, xml=\"allIndicators.xml\"):\n",
    "        self.data = ET.parse(xml).getroot()\n",
    "        \n",
    "    def get_values(self, values):\n",
    "        '''{'Тверская область': [{(2020, 4): 6946}]}'''\n",
    "        v = [v.text for v in values]\n",
    "        return {v[2]: [ {(int(v[3].split('-')[0]), int(v[3].split('-')[1])): int(v[0])}]}\n",
    "        \n",
    "    def get_row(self, rows):\n",
    "        # {'Тверская область': [{(2020, 4): 6946}, (2020, 3): 1234}, ...]}\n",
    "        result = {}\n",
    "        for row in rows:            \n",
    "            key = list(self.get_values(row))[0]\n",
    "            value = list(self.get_values(row).values())[0][0]\n",
    "            v = list(value.keys())[0][0]\n",
    "            if v not in {2009, 2010, 2011}: # берем только с 2012 года\n",
    "                if key in result:\n",
    "                    result[key].append(value)\n",
    "                else:\n",
    "                    result[key] = [value]\n",
    "        for key, value in result.items():\n",
    "            result[key] = sorted(value, key=lambda k: max(k.keys()))\n",
    "        return result\n",
    "    \n",
    "    def get_full_dict(self):\n",
    "        '''{'Всего .. ний': {'Тв.. ..сть': [{(2009, 12): 33888}, {(2010, 1): 2879}, ...'''\n",
    "        result = {}\n",
    "        for crime in self.data:\n",
    "            result[crime.attrib['name']] = self.get_row(crime)\n",
    "        return result\n",
    "    \n",
    "    def get_frame(self, crime):\n",
    "        '''Словарь DataFrame'''\n",
    "        regions = {}            \n",
    "        for region, value in crime.items():\n",
    "            columns = [list(item.keys())[0] for item in value]\n",
    "            rows = [list(item.values())[0] for item in value]\n",
    "            regions[region] = rows\n",
    "        return pd.DataFrame.from_dict(regions, orient='index', columns=columns)\n",
    "    \n",
    "    def get_files(self):\n",
    "        '''Сохраняем в Excel-файлы'''\n",
    "        crimes = self.get_full_dict()\n",
    "        for crime, value in crimes.items():\n",
    "            try:\n",
    "                df = self.get_frame(value)\n",
    "                with pd.ExcelWriter(f'result/{crime.replace(\",\", \"\")}.xlsx') as writer:\n",
    "                    df.to_excel(writer, sheet_name=\"data\")\n",
    "            except ValueError:\n",
    "                print(f'Problem: {crime}')\n",
    "                    \n",
    "\n",
    "crime = Crime()\n",
    "crime.get_files()"
   ]
  }
 ],
 "metadata": {
  "kernelspec": {
   "display_name": "Python 3",
   "language": "python",
   "name": "python3"
  },
  "language_info": {
   "codemirror_mode": {
    "name": "ipython",
    "version": 3
   },
   "file_extension": ".py",
   "mimetype": "text/x-python",
   "name": "python",
   "nbconvert_exporter": "python",
   "pygments_lexer": "ipython3",
   "version": "3.8.3"
  }
 },
 "nbformat": 4,
 "nbformat_minor": 4
}
